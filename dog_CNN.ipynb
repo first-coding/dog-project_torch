{
 "cells": [
  {
   "cell_type": "code",
   "execution_count": 1,
   "metadata": {},
   "outputs": [],
   "source": [
    "import torch\n",
    "import numpy as np\n",
    "from sklearn.datasets import load_files\n",
    "from glob import glob\n",
    "import cv2 # type: ignore\n",
    "import matplotlib.pyplot as plt\n",
    "%matplotlib inline\n",
    "import random\n",
    "import os"
   ]
  },
  {
   "cell_type": "code",
   "execution_count": 2,
   "metadata": {},
   "outputs": [
    {
     "name": "stdout",
     "output_type": "stream",
     "text": [
      "torch.Size([6680, 133])\n",
      "torch.Size([835, 133])\n",
      "torch.Size([836, 133])\n"
     ]
    }
   ],
   "source": [
    "#狗的数据集\n",
    "def load_data(path): \n",
    "    data = load_files(path)\n",
    "    dog_files = np.array(data['filenames'])\n",
    "    dog_targets = torch.nn.functional.one_hot(torch.tensor(np.array(data['target'])).long(),133)  # 将类别转换成数组。\n",
    "    print(dog_targets.shape)\n",
    "    return dog_files,dog_targets\n",
    "train_files,train_targets = load_data('./dogImages/train')\n",
    "valid_files,valid_targets = load_data('./dogImages/valid')  \n",
    "test_files,test_targets = load_data('./dogImages/test')\n",
    "dog_names = [item[20:-1] for item in sorted(glob(\"./dogImages/train/*/\"))]\n"
   ]
  },
  {
   "cell_type": "code",
   "execution_count": 3,
   "metadata": {},
   "outputs": [],
   "source": [
    "#人脸的数据集\n",
    "random.seed(8675309)\n",
    "human_files = np.array(glob(\"lfw/*/*\"))\n",
    "random.shuffle(human_files)  #type:ignore"
   ]
  },
  {
   "cell_type": "code",
   "execution_count": 4,
   "metadata": {},
   "outputs": [],
   "source": [
    "#人脸检测模型加载\n",
    "face_cascade = cv2.CascadeClassifier('./haarcascades/haarcascade_frontalface_alt.xml') # type: ignore\n"
   ]
  },
  {
   "cell_type": "code",
   "execution_count": 5,
   "metadata": {},
   "outputs": [],
   "source": [
    "def face_detector(img_path):\n",
    "    img = cv2.imread(img_path) #type:ignore\n",
    "    if img is not None:\n",
    "        gray = cv2.cvtColor(img,cv2.COLOR_BGR2GRAY) #type:ignore\n",
    "        faces = face_cascade.detectMultiScale(gray)\n",
    "    \n",
    "    #圈出模型识别出的人脸在图中位置。\n",
    "    for(x,y,w,h) in faces:\n",
    "        cv2.rectangle(img,(x,y),(x+w,y+h),(0,255,0),1) # type: ignore\n",
    "    cv_rgb = cv2.cvtColor(img,cv2.COLOR_BGR2RGB) # type: ignore\n",
    "    plt.imshow(cv_rgb)\n",
    "    plt.show()\n",
    "    plt.close()\n",
    "    return faces\n",
    "    "
   ]
  },
  {
   "cell_type": "code",
   "execution_count": null,
   "metadata": {},
   "outputs": [],
   "source": [
    "face_detection = []\n",
    "for i in human_files:\n",
    "    for j in os.listdir(i):\n",
    "        face_detection.append(face_detector(os.path.join(i,j)))"
   ]
  },
  {
   "cell_type": "code",
   "execution_count": 6,
   "metadata": {},
   "outputs": [],
   "source": [
    "human_files_short = human_files[:100]\n",
    "dog_files_short = train_files[:100]"
   ]
  },
  {
   "cell_type": "code",
   "execution_count": 7,
   "metadata": {},
   "outputs": [],
   "source": [
    "def model_ignores(path):\n",
    "    img = cv2.imread(path)\n",
    "    gray = cv2.cvtColor(img,cv2.COLOR_BGR2GRAY) #type:ignore\n",
    "    detect_face = len(face_cascade.detectMultiScale(gray)) # type: ignore\n",
    "    return detect_face>0"
   ]
  },
  {
   "cell_type": "code",
   "execution_count": 8,
   "metadata": {},
   "outputs": [
    {
     "name": "stdout",
     "output_type": "stream",
     "text": [
      "human_files[lfw\\lfw\\Taia_Balk\\Taia_Balk_0001.jpg] detect human face fail\n",
      "error check number:1\n",
      "dog_files[./dogImages/train\\095.Kuvasz\\Kuvasz_06442.jpg] is detectted as human face\n",
      "dog_files[./dogImages/train\\099.Lhasa_apso\\Lhasa_apso_06646.jpg] is detectted as human face\n",
      "dog_files[./dogImages/train\\009.American_water_spaniel\\American_water_spaniel_00628.jpg] is detectted as human face\n",
      "dog_files[./dogImages/train\\057.Dalmatian\\Dalmatian_04023.jpg] is detectted as human face\n",
      "dog_files[./dogImages/train\\096.Labrador_retriever\\Labrador_retriever_06474.jpg] is detectted as human face\n",
      "dog_files[./dogImages/train\\106.Newfoundland\\Newfoundland_06989.jpg] is detectted as human face\n",
      "dog_files[./dogImages/train\\117.Pekingese\\Pekingese_07559.jpg] is detectted as human face\n",
      "dog_files[./dogImages/train\\039.Bull_terrier\\Bull_terrier_02805.jpg] is detectted as human face\n",
      "dog_files[./dogImages/train\\097.Lakeland_terrier\\Lakeland_terrier_06516.jpg] is detectted as human face\n",
      "dog_files[./dogImages/train\\057.Dalmatian\\Dalmatian_04086.jpg] is detectted as human face\n",
      "dog_files[./dogImages/train\\024.Bichon_frise\\Bichon_frise_01771.jpg] is detectted as human face\n",
      "dog_files[./dogImages/train\\084.Icelandic_sheepdog\\Icelandic_sheepdog_05705.jpg] is detectted as human face\n",
      "error check number:12\n"
     ]
    }
   ],
   "source": [
    "error_num=0\n",
    "for i in human_files_short:\n",
    "    for j in os.listdir(i):\n",
    "        detect_face = model_ignores(os.path.join(i,j))\n",
    "        if(detect_face==False):\n",
    "            error_num+=1;\n",
    "            print(\"human_files[{}] detect human face fail\".format(os.path.join(i,j)))\n",
    "print(\"error check number:{}\".format(error_num))\n",
    "error_num=0\n",
    "for i in dog_files_short:\n",
    "    detect_face = model_ignores(i)\n",
    "    if(detect_face==True):\n",
    "        error_num+=1\n",
    "        print(\"dog_files[{}] is detectted as human face\".format(i))\n",
    "print(\"error check number:{}\".format(error_num))"
   ]
  },
  {
   "cell_type": "code",
   "execution_count": null,
   "metadata": {},
   "outputs": [],
   "source": []
  }
 ],
 "metadata": {
  "kernelspec": {
   "display_name": "Torch",
   "language": "python",
   "name": "python3"
  },
  "language_info": {
   "codemirror_mode": {
    "name": "ipython",
    "version": 3
   },
   "file_extension": ".py",
   "mimetype": "text/x-python",
   "name": "python",
   "nbconvert_exporter": "python",
   "pygments_lexer": "ipython3",
   "version": "3.9.19"
  }
 },
 "nbformat": 4,
 "nbformat_minor": 2
}
